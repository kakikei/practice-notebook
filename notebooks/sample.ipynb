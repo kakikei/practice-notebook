{
 "cells": [
  {
   "cell_type": "code",
   "execution_count": 3,
   "id": "1d1bf3c5-aff8-468d-b33f-ae5de8dbbec1",
   "metadata": {},
   "outputs": [],
   "source": [
    "import sys\n",
    "import pathlib\n",
    "from datetime import datetime\n",
    "import json\n",
    "import os\n",
    "import re"
   ]
  },
  {
   "cell_type": "code",
   "execution_count": 4,
   "id": "8fd8f3b2",
   "metadata": {},
   "outputs": [
    {
     "name": "stdout",
     "output_type": "stream",
     "text": [
      "Hello, World!\n"
     ]
    }
   ],
   "source": [
    "str1 = \"Hello\"\n",
    "str2 = \"World!\"\n",
    "\n",
    "print(str1 + ', ' + str2)"
   ]
  },
  {
   "cell_type": "code",
   "execution_count": 5,
   "id": "1bdb06b0-25c9-40ec-95a9-801ae4b17cfe",
   "metadata": {},
   "outputs": [
    {
     "name": "stdout",
     "output_type": "stream",
     "text": [
      "hgoe1, hoge2\n"
     ]
    }
   ],
   "source": [
    "str1 = \"hgoe1\"\n",
    "str2 = \"hoge2\"\n",
    "\n",
    "print(str1 + ', ' + str2)"
   ]
  },
  {
   "cell_type": "code",
   "execution_count": 6,
   "id": "b92a03d3-17fe-41c7-acbe-897df90b2103",
   "metadata": {},
   "outputs": [
    {
     "name": "stdout",
     "output_type": "stream",
     "text": [
      "hgoe3, hoge4\n"
     ]
    }
   ],
   "source": [
    "str1 = \"hgoe3\"\n",
    "str2 = \"hoge4\"\n",
    "\n",
    "print(str1 + ', ' + str2)"
   ]
  },
  {
   "cell_type": "code",
   "execution_count": null,
   "id": "4c3ad116-3627-4c3b-88da-ea1620d92267",
   "metadata": {},
   "outputs": [],
   "source": []
  }
 ],
 "metadata": {
  "kernelspec": {
   "display_name": "Python 3 (ipykernel)",
   "language": "python",
   "name": "python3"
  },
  "language_info": {
   "codemirror_mode": {
    "name": "ipython",
    "version": 3
   },
   "file_extension": ".py",
   "mimetype": "text/x-python",
   "name": "python",
   "nbconvert_exporter": "python",
   "pygments_lexer": "ipython3",
   "version": "3.14.0"
  }
 },
 "nbformat": 4,
 "nbformat_minor": 5
}
